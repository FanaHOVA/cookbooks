{
 "cells": [
  {
   "cell_type": "code",
   "execution_count": 1,
   "metadata": {},
   "outputs": [
    {
     "name": "stdout",
     "output_type": "stream",
     "text": [
      "Running Chroma using direct local API.\n",
      "Using DuckDB in-memory for database. Data will be transient.\n"
     ]
    }
   ],
   "source": [
    "import chromadb\n",
    "chroma_client = chromadb.Client()"
   ]
  },
  {
   "cell_type": "code",
   "execution_count": 9,
   "metadata": {},
   "outputs": [],
   "source": [
    "import pandas as pd\n",
    "\n",
    "df = pd.read_csv('./../data/top-1k-repos-with-embeddings.csv')"
   ]
  },
  {
   "attachments": {},
   "cell_type": "markdown",
   "metadata": {},
   "source": [
    "## Importing existing embeddings into Chroma\n",
    "\n",
    "I already had embeddings stored in a CSV. Can easily bring them into Chroma."
   ]
  },
  {
   "cell_type": "code",
   "execution_count": 17,
   "metadata": {},
   "outputs": [],
   "source": [
    "import ast\n",
    "\n",
    "repos = chroma_client.get_collection(name=\"my_repos\") or chroma_client.create_collection(name=\"my_repos\")\n",
    "\n",
    "repos.add(\n",
    "  embeddings=[ast.literal_eval(e) for e in df['embedding'].values.tolist()],\n",
    "  metadatas=[{'description': d} for d in df['description'].values.tolist()],\n",
    "  ids=df['github_id'].values.tolist()\n",
    ")\n",
    "\n"
   ]
  },
  {
   "attachments": {},
   "cell_type": "markdown",
   "metadata": {},
   "source": [
    "## Using Chroma to embed my entries \n",
    "\n",
    "Creating a new collection that also takes care of embedding for me "
   ]
  },
  {
   "cell_type": "code",
   "execution_count": 18,
   "metadata": {},
   "outputs": [
    {
     "ename": "TypeError",
     "evalue": "LocalAPI.create_collection() got an unexpected keyword argument 'embedding_function'",
     "output_type": "error",
     "traceback": [
      "\u001b[0;31m---------------------------------------------------------------------------\u001b[0m",
      "\u001b[0;31mTypeError\u001b[0m                                 Traceback (most recent call last)",
      "Cell \u001b[0;32mIn[18], line 17\u001b[0m\n\u001b[1;32m     12\u001b[0m     \u001b[39mreturn\u001b[39;00m []\n\u001b[1;32m     14\u001b[0m   \u001b[39mreturn\u001b[39;00m get_embedding(text, engine\u001b[39m=\u001b[39membedding_model)\n\u001b[0;32m---> 17\u001b[0m collection \u001b[39m=\u001b[39m chroma_client\u001b[39m.\u001b[39;49mcreate_collection(name\u001b[39m=\u001b[39;49m\u001b[39m\"\u001b[39;49m\u001b[39mrepos_embedder\u001b[39;49m\u001b[39m\"\u001b[39;49m, embedding_function\u001b[39m=\u001b[39;49membedding_function)\n\u001b[1;32m     19\u001b[0m collection\u001b[39m.\u001b[39madd(\n\u001b[1;32m     20\u001b[0m   documents\u001b[39m=\u001b[39mdf[\u001b[39m'\u001b[39m\u001b[39mdescription\u001b[39m\u001b[39m'\u001b[39m]\u001b[39m.\u001b[39mvalues\u001b[39m.\u001b[39mtolist(),\n\u001b[1;32m     21\u001b[0m   ids\u001b[39m=\u001b[39mdf[\u001b[39m'\u001b[39m\u001b[39mgithub_id\u001b[39m\u001b[39m'\u001b[39m]\u001b[39m.\u001b[39mvalues\u001b[39m.\u001b[39mtolist(),\n\u001b[1;32m     22\u001b[0m   metadatas\u001b[39m=\u001b[39m[{ \u001b[39m'\u001b[39m\u001b[39mscore\u001b[39m\u001b[39m'\u001b[39m: row[\u001b[39m'\u001b[39m\u001b[39mScore\u001b[39m\u001b[39m'\u001b[39m], \u001b[39m'\u001b[39m\u001b[39mid\u001b[39m\u001b[39m'\u001b[39m: row[\u001b[39m'\u001b[39m\u001b[39mid\u001b[39m\u001b[39m'\u001b[39m], \u001b[39m'\u001b[39m\u001b[39mfull_name\u001b[39m\u001b[39m'\u001b[39m: row[\u001b[39m'\u001b[39m\u001b[39mfull_name\u001b[39m\u001b[39m'\u001b[39m] } \u001b[39mfor\u001b[39;00m _, row \u001b[39min\u001b[39;00m df\u001b[39m.\u001b[39miterrows()]\n\u001b[1;32m     23\u001b[0m )  \n",
      "\u001b[0;31mTypeError\u001b[0m: LocalAPI.create_collection() got an unexpected keyword argument 'embedding_function'"
     ]
    }
   ],
   "source": [
    "from openai.embeddings_utils import get_embedding\n",
    "import tiktoken\n",
    "\n",
    "embedding_model = \"text-embedding-ada-002\"\n",
    "embedding_encoding = \"cl100k_base\"  # this the encoding for text-embedding-ada-002\n",
    "max_tokens = 8000  # the maximum for text-embedding-ada-002 is 8191\n",
    "\n",
    "def embedding_function(text):\n",
    "  encoding = tiktoken.get_encoding(embedding_encoding)\n",
    "  if len(encoding.encode(text)) >= max_tokens:\n",
    "    print(\"Text too long. Text: %s\", text)\n",
    "    return []\n",
    "    \n",
    "  return get_embedding(text, engine=embedding_model)\n",
    "\n",
    "\n",
    "collection = chroma_client.create_collection(name=\"repos_embedder\", embedding_function=embedding_function)\n",
    "\n",
    "collection.add(\n",
    "  documents=df['description'].values.tolist(),\n",
    "  ids=df['github_id'].values.tolist(),\n",
    "  metadatas=[{ 'score': row['Score'], 'id': row['id'], 'full_name': row['full_name'] } for _, row in df.iterrows()]\n",
    ")  \n",
    "\n"
   ]
  }
 ],
 "metadata": {
  "kernelspec": {
   "display_name": "Python 3",
   "language": "python",
   "name": "python3"
  },
  "language_info": {
   "codemirror_mode": {
    "name": "ipython",
    "version": 3
   },
   "file_extension": ".py",
   "mimetype": "text/x-python",
   "name": "python",
   "nbconvert_exporter": "python",
   "pygments_lexer": "ipython3",
   "version": "3.10.9"
  },
  "orig_nbformat": 4,
  "vscode": {
   "interpreter": {
    "hash": "b0fa6594d8f4cbf19f97940f81e996739fb7646882a419484c72d19e05852a7e"
   }
  }
 },
 "nbformat": 4,
 "nbformat_minor": 2
}
