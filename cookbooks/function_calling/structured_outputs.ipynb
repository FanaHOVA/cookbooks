{
 "cells": [
  {
   "cell_type": "code",
   "execution_count": 50,
   "metadata": {},
   "outputs": [],
   "source": [
    "import json\n",
    "import os\n",
    "from dotenv import load_dotenv\n",
    "from termcolor import colored  \n",
    "\n",
    "from openai import OpenAI\n",
    "\n",
    "load_dotenv()\n",
    "\n",
    "GPT_MODEL = \"gpt-3.5-turbo-0613\"\n",
    "client = OpenAI(api_key=os.environ.get(\"OPENAI_API_KEY\"))"
   ]
  },
  {
   "cell_type": "code",
   "execution_count": 34,
   "metadata": {},
   "outputs": [],
   "source": [
    "def chat_completion_request(messages, tools=None, tool_choice=\"auto\", model=GPT_MODEL):\n",
    "    try:\n",
    "        response = client.chat.completions.create(\n",
    "            model=model,\n",
    "            messages=messages,\n",
    "            tools=tools,\n",
    "            tool_choice=tool_choice,\n",
    "        )\n",
    "        return response\n",
    "    except Exception as e:\n",
    "        print(\"Unable to generate ChatCompletion response\")\n",
    "        print(f\"Exception: {e}\")\n",
    "        return e\n"
   ]
  },
  {
   "cell_type": "code",
   "execution_count": 35,
   "metadata": {},
   "outputs": [],
   "source": [
    "def pretty_print_conversation(messages):\n",
    "    role_to_color = {\n",
    "        \"system\": \"red\",\n",
    "        \"user\": \"green\",\n",
    "        \"assistant\": \"blue\",\n",
    "        \"function\": \"magenta\",\n",
    "    }\n",
    "    \n",
    "    for message in messages:\n",
    "        if message[\"role\"] == \"system\":\n",
    "            print(colored(f\"system: {message['content']}\\n\", role_to_color[message[\"role\"]]))\n",
    "        elif message[\"role\"] == \"user\":\n",
    "            print(colored(f\"user: {message['content']}\\n\", role_to_color[message[\"role\"]]))\n",
    "        elif message[\"role\"] == \"assistant\" and message.get(\"function_call\"):\n",
    "            print(colored(f\"assistant: {message['function_call']}\\n\", role_to_color[message[\"role\"]]))\n",
    "        elif message[\"role\"] == \"assistant\" and not message.get(\"function_call\"):\n",
    "            print(colored(f\"assistant: {message['content']}\\n\", role_to_color[message[\"role\"]]))\n",
    "        elif message[\"role\"] == \"function\":\n",
    "            print(colored(f\"function ({message['name']}): {message['content']}\\n\", role_to_color[message[\"role\"]]))\n"
   ]
  },
  {
   "cell_type": "code",
   "execution_count": 43,
   "metadata": {},
   "outputs": [],
   "source": [
    "tools = [{\n",
    "        \"type\": \"function\",\n",
    "        \"function\": {\n",
    "            \"name\": \"extract_people_information\",\n",
    "            \"description\": \"Extract the information for a person. Make sure to use MM/DD/YY formatting for dates.\",\n",
    "            \"parameters\": {\n",
    "                \"type\": \"object\",\n",
    "                \"properties\": {\n",
    "                    \"name\": {\n",
    "                        \"type\": \"string\",\n",
    "                        \"description\": \"Name of the person to be extracted.\"\n",
    "                    },\n",
    "                    \"birthday\": {\n",
    "                        \"type\": \"string\",\n",
    "                        \"description\": \"Date of birth of the person to be extracted.\"\n",
    "                    },\n",
    "                    \"location\": {\n",
    "                        \"type\": \"string\",\n",
    "                        \"description\": \"Location of the person to be extracted.\"\n",
    "                    }\n",
    "                },\n",
    "                \"required\": [\"name, birthday, location\"],\n",
    "            },\n",
    "        }\n",
    "    }\n",
    "]"
   ]
  },
  {
   "cell_type": "code",
   "execution_count": 51,
   "metadata": {},
   "outputs": [
    {
     "name": "stdout",
     "output_type": "stream",
     "text": [
      "[Choice(finish_reason='tool_calls', index=0, logprobs=None, message=ChatCompletionMessage(content=None, role='assistant', function_call=None, tool_calls=[ChatCompletionMessageToolCall(id='call_epAZsrsTCfiiyD9c8JqngHJY', function=Function(arguments='{\\n  \"name\": \"Alessio\",\\n  \"birthday\": \"08/29/1995\",\\n  \"location\": \"Rome\"\\n}', name='extract_people_information'), type='function')]))]\n"
     ]
    }
   ],
   "source": [
    "messages = []\n",
    "messages.append({\"role\": \"system\", \"content\": \"You're an assistant that summarizes the information for all people mentioned in the user messages. You should make sure you don't miss anyone that is mentioned. There will be multiple people in each message.\"})\n",
    "messages.append({\"role\": \"user\", \"content\": \"I met Alessio, a guy from Rome whose birthday is on Aug 29th and is 29 years old (we are in 2024 now). I also met Sarah who was born on the 8th of August instead and is from Milwaukee\"})\n",
    "chat_response = chat_completion_request(messages, tools)\n",
    "print(chat_response.choices)\n",
    "assistant_message = chat_response.choices[0].message\n",
    "assistant_message.content = str(assistant_message.tool_calls[0].function)\n",
    "messages.append({\"role\": assistant_message.role, \"content\": assistant_message.content})"
   ]
  },
  {
   "cell_type": "code",
   "execution_count": 52,
   "metadata": {},
   "outputs": [
    {
     "name": "stdout",
     "output_type": "stream",
     "text": [
      "\u001b[31msystem: You're an assistant that summarizes the information for all people mentioned in the user messages. You should make sure you don't miss anyone that is mentioned. There will be multiple people in each message.\n",
      "\u001b[0m\n",
      "\u001b[32muser: I met Alessio, a guy from Rome whose birthday is on Aug 29th and is 29 years old (we are in 2024 now). I also met Sarah who was born on the 8th of August instead and is from Milwaukee\n",
      "\u001b[0m\n",
      "\u001b[34massistant: Function(arguments='{\\n  \"name\": \"Alessio\",\\n  \"birthday\": \"08/29/1995\",\\n  \"location\": \"Rome\"\\n}', name='extract_people_information')\n",
      "\u001b[0m\n",
      "{\n",
      "  \"name\": \"Alessio\",\n",
      "  \"birthday\": \"08/29/1995\",\n",
      "  \"location\": \"Rome\"\n",
      "}\n"
     ]
    }
   ],
   "source": [
    "pretty_print_conversation(messages)\n",
    "\n",
    "print(assistant_message.tool_calls[0].function.arguments)"
   ]
  },
  {
   "cell_type": "code",
   "execution_count": 56,
   "metadata": {},
   "outputs": [],
   "source": [
    "tools = [{\n",
    "    \"type\": \"function\",\n",
    "    \"function\": {\n",
    "        \"name\": \"extract_people_information\",\n",
    "        \"description\": \"Extract information for multiple people. Make sure to use MM/DD/YY formatting for dates.\",\n",
    "        \"parameters\": {\n",
    "            \"type\": \"object\",\n",
    "            \"properties\": {\n",
    "                \"people\": {\n",
    "                    \"type\": \"array\",\n",
    "                    \"items\": {\n",
    "                        \"type\": \"object\",\n",
    "                        \"properties\": {\n",
    "                            \"name\": {\n",
    "                                \"type\": \"string\",\n",
    "                                \"description\": \"Name of the person to be extracted.\"\n",
    "                            },\n",
    "                            \"birthday\": {\n",
    "                                \"type\": \"string\",\n",
    "                                \"description\": \"Date of birth of the person to be extracted.\"\n",
    "                            },\n",
    "                            \"location\": {\n",
    "                                \"type\": \"string\",\n",
    "                                \"description\": \"Location of the person to be extracted.\"\n",
    "                            }\n",
    "                        },\n",
    "                        \"required\": [\"name\", \"birthday\", \"location\"]\n",
    "                    }\n",
    "                }\n",
    "            },\n",
    "            \"required\": [\"people\"]\n",
    "        },\n",
    "    }\n",
    "}]\n"
   ]
  },
  {
   "cell_type": "code",
   "execution_count": 57,
   "metadata": {},
   "outputs": [
    {
     "name": "stdout",
     "output_type": "stream",
     "text": [
      "[Choice(finish_reason='tool_calls', index=0, logprobs=None, message=ChatCompletionMessage(content=None, role='assistant', function_call=None, tool_calls=[ChatCompletionMessageToolCall(id='call_QZz6WpENZhxTLCw2sok8p2qh', function=Function(arguments='{\\n  \"people\": [\\n    {\\n      \"name\": \"Alessio\",\\n      \"birthday\": \"08/29/95\",\\n      \"location\": \"Rome\"\\n    },\\n    {\\n      \"name\": \"Sarah\",\\n      \"birthday\": \"08/08/95\",\\n      \"location\": \"Milwaukee\"\\n    }\\n  ]\\n}', name='extract_people_information'), type='function')]))]\n"
     ]
    }
   ],
   "source": [
    "messages = []\n",
    "messages.append({\"role\": \"system\", \"content\": \"You're an assistant that summarizes the information for all people mentioned in the user messages. You should make sure you don't miss anyone that is mentioned. There will be multiple people in each message.\"})\n",
    "messages.append({\"role\": \"user\", \"content\": \"I met Alessio, a guy from Rome whose birthday is on Aug 29th and is 29 years old (we are in 2024 now). I also met Sarah who was born on the 8th of August instead and is from Milwaukee\"})\n",
    "chat_response = chat_completion_request(messages, tools)\n",
    "print(chat_response.choices)\n",
    "assistant_message = chat_response.choices[0].message\n",
    "assistant_message.content = str(assistant_message.tool_calls[0].function)\n",
    "messages.append({\"role\": assistant_message.role, \"content\": assistant_message.content})"
   ]
  },
  {
   "cell_type": "code",
   "execution_count": 58,
   "metadata": {},
   "outputs": [
    {
     "name": "stdout",
     "output_type": "stream",
     "text": [
      "\u001b[31msystem: You're an assistant that summarizes the information for all people mentioned in the user messages. You should make sure you don't miss anyone that is mentioned. There will be multiple people in each message.\n",
      "\u001b[0m\n",
      "\u001b[32muser: I met Alessio, a guy from Rome whose birthday is on Aug 29th and is 29 years old (we are in 2024 now). I also met Sarah who was born on the 8th of August instead and is from Milwaukee\n",
      "\u001b[0m\n",
      "\u001b[34massistant: Function(arguments='{\\n  \"people\": [\\n    {\\n      \"name\": \"Alessio\",\\n      \"birthday\": \"08/29/95\",\\n      \"location\": \"Rome\"\\n    },\\n    {\\n      \"name\": \"Sarah\",\\n      \"birthday\": \"08/08/95\",\\n      \"location\": \"Milwaukee\"\\n    }\\n  ]\\n}', name='extract_people_information')\n",
      "\u001b[0m\n",
      "{\n",
      "  \"people\": [\n",
      "    {\n",
      "      \"name\": \"Alessio\",\n",
      "      \"birthday\": \"08/29/95\",\n",
      "      \"location\": \"Rome\"\n",
      "    },\n",
      "    {\n",
      "      \"name\": \"Sarah\",\n",
      "      \"birthday\": \"08/08/95\",\n",
      "      \"location\": \"Milwaukee\"\n",
      "    }\n",
      "  ]\n",
      "}\n"
     ]
    }
   ],
   "source": [
    "pretty_print_conversation(messages)\n",
    "\n",
    "print(assistant_message.tool_calls[0].function.arguments)"
   ]
  }
 ],
 "metadata": {
  "kernelspec": {
   "display_name": "myenv",
   "language": "python",
   "name": "python3"
  },
  "language_info": {
   "codemirror_mode": {
    "name": "ipython",
    "version": 3
   },
   "file_extension": ".py",
   "mimetype": "text/x-python",
   "name": "python",
   "nbconvert_exporter": "python",
   "pygments_lexer": "ipython3",
   "version": "3.9.6"
  }
 },
 "nbformat": 4,
 "nbformat_minor": 2
}
