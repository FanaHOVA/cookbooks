{
 "cells": [
  {
   "cell_type": "code",
   "execution_count": 6,
   "metadata": {},
   "outputs": [],
   "source": [
    "import numpy as np\n",
    "\n",
    "with open('./../data/sift/sift_base.fvecs', 'rb') as f:\n",
    "    d = np.fromfile(f, dtype=np.int32, count=1)[0]  # dimension of vectors\n",
    "    vectors = []\n",
    "    while True:\n",
    "        v = np.fromfile(f, dtype=np.float32, count=d)\n",
    "        if not v.size:\n",
    "            break\n",
    "        vectors.append(v)"
   ]
  },
  {
   "cell_type": "code",
   "execution_count": 25,
   "metadata": {},
   "outputs": [],
   "source": [
    "vectors_ids = [\"id-{i}\" for i in range(0, len(vectors))]"
   ]
  },
  {
   "cell_type": "code",
   "execution_count": 28,
   "metadata": {},
   "outputs": [
    {
     "name": "stdout",
     "output_type": "stream",
     "text": [
      "Running Chroma using direct local API.\n",
      "Using DuckDB in-memory for database. Data will be transient.\n"
     ]
    },
    {
     "ename": "KeyError",
     "evalue": "0",
     "output_type": "error",
     "traceback": [
      "\u001b[0;31m---------------------------------------------------------------------------\u001b[0m",
      "\u001b[0;31mKeyError\u001b[0m                                  Traceback (most recent call last)",
      "Cell \u001b[0;32mIn[28], line 6\u001b[0m\n\u001b[1;32m      2\u001b[0m chroma_client \u001b[39m=\u001b[39m chromadb\u001b[39m.\u001b[39mClient()\n\u001b[1;32m      4\u001b[0m collection \u001b[39m=\u001b[39m chroma_client\u001b[39m.\u001b[39mcreate_collection(name\u001b[39m=\u001b[39m\u001b[39m\"\u001b[39m\u001b[39mtesting_collection\u001b[39m\u001b[39m\"\u001b[39m)\n\u001b[0;32m----> 6\u001b[0m collection\u001b[39m.\u001b[39;49madd(\n\u001b[1;32m      7\u001b[0m     embeddings\u001b[39m=\u001b[39;49mvectors,\n\u001b[1;32m      8\u001b[0m     ids\u001b[39m=\u001b[39;49mvectors_ids\n\u001b[1;32m      9\u001b[0m )\n",
      "File \u001b[0;32m/opt/homebrew/lib/python3.10/site-packages/chromadb/api/models/Collection.py:100\u001b[0m, in \u001b[0;36mCollection.add\u001b[0;34m(self, ids, embeddings, metadatas, documents, increment_index)\u001b[0m\n\u001b[1;32m     97\u001b[0m         \u001b[39mraise\u001b[39;00m \u001b[39mValueError\u001b[39;00m(\u001b[39m\"\u001b[39m\u001b[39mYou must provide embeddings or a function to compute them\u001b[39m\u001b[39m\"\u001b[39m)\n\u001b[1;32m     98\u001b[0m     embeddings \u001b[39m=\u001b[39m \u001b[39mself\u001b[39m\u001b[39m.\u001b[39m_embedding_function(documents)\n\u001b[0;32m--> 100\u001b[0m \u001b[39mself\u001b[39;49m\u001b[39m.\u001b[39;49m_client\u001b[39m.\u001b[39;49m_add(ids, \u001b[39mself\u001b[39;49m\u001b[39m.\u001b[39;49mname, embeddings, metadatas, documents, increment_index)\n",
      "File \u001b[0;32m/opt/homebrew/lib/python3.10/site-packages/chromadb/api/local.py:114\u001b[0m, in \u001b[0;36mLocalAPI._add\u001b[0;34m(self, ids, collection_name, embeddings, metadatas, documents, increment_index)\u001b[0m\n\u001b[1;32m    111\u001b[0m         documents \u001b[39m=\u001b[39m \u001b[39mNone\u001b[39;00m\n\u001b[1;32m    113\u001b[0m collection_uuid \u001b[39m=\u001b[39m \u001b[39mself\u001b[39m\u001b[39m.\u001b[39m_db\u001b[39m.\u001b[39mget_collection_uuid_from_name(collection_name)\n\u001b[0;32m--> 114\u001b[0m added_uuids \u001b[39m=\u001b[39m \u001b[39mself\u001b[39;49m\u001b[39m.\u001b[39;49m_db\u001b[39m.\u001b[39;49madd(\n\u001b[1;32m    115\u001b[0m     collection_uuid, embedding\u001b[39m=\u001b[39;49membeddings, metadata\u001b[39m=\u001b[39;49mmetadatas, documents\u001b[39m=\u001b[39;49mdocuments, ids\u001b[39m=\u001b[39;49mids\n\u001b[1;32m    116\u001b[0m )\n\u001b[1;32m    118\u001b[0m \u001b[39mif\u001b[39;00m increment_index:\n\u001b[1;32m    119\u001b[0m     \u001b[39mself\u001b[39m\u001b[39m.\u001b[39m_db\u001b[39m.\u001b[39madd_incremental(collection_uuid, added_uuids, embeddings)\n",
      "File \u001b[0;32m/opt/homebrew/lib/python3.10/site-packages/chromadb/db/duckdb.py:132\u001b[0m, in \u001b[0;36mDuckDB.add\u001b[0;34m(self, collection_uuid, embedding, metadata, documents, ids)\u001b[0m\n\u001b[1;32m    125\u001b[0m data_to_insert \u001b[39m=\u001b[39m []\n\u001b[1;32m    126\u001b[0m \u001b[39mfor\u001b[39;00m i \u001b[39min\u001b[39;00m \u001b[39mrange\u001b[39m(\u001b[39mlen\u001b[39m(embedding)):\n\u001b[1;32m    127\u001b[0m     data_to_insert\u001b[39m.\u001b[39mappend(\n\u001b[1;32m    128\u001b[0m         [\n\u001b[1;32m    129\u001b[0m             collection_uuid,\n\u001b[1;32m    130\u001b[0m             \u001b[39mstr\u001b[39m(uuid\u001b[39m.\u001b[39muuid4()),\n\u001b[1;32m    131\u001b[0m             embedding[i],\n\u001b[0;32m--> 132\u001b[0m             json\u001b[39m.\u001b[39mdumps(metadata[i]),\n\u001b[1;32m    133\u001b[0m             documents[i],\n\u001b[1;32m    134\u001b[0m             ids[i],\n\u001b[1;32m    135\u001b[0m         ]\n\u001b[1;32m    136\u001b[0m     )\n\u001b[1;32m    138\u001b[0m insert_string \u001b[39m=\u001b[39m \u001b[39m\"\u001b[39m\u001b[39mcollection_uuid, uuid, embedding, metadata, document, id\u001b[39m\u001b[39m\"\u001b[39m\n\u001b[1;32m    140\u001b[0m \u001b[39mself\u001b[39m\u001b[39m.\u001b[39m_conn\u001b[39m.\u001b[39mexecutemany(\n\u001b[1;32m    141\u001b[0m     \u001b[39mf\u001b[39m\u001b[39m\"\"\"\u001b[39m\n\u001b[1;32m    142\u001b[0m \u001b[39m INSERT INTO embeddings (\u001b[39m\u001b[39m{\u001b[39;00minsert_string\u001b[39m}\u001b[39;00m\u001b[39m) VALUES (?,?,?,?,?,?)\u001b[39m\u001b[39m\"\"\"\u001b[39m,\n\u001b[1;32m    143\u001b[0m     data_to_insert,\n\u001b[1;32m    144\u001b[0m )\n",
      "\u001b[0;31mKeyError\u001b[0m: 0"
     ]
    }
   ],
   "source": [
    "import chromadb\n",
    "chroma_client = chromadb.Client()\n",
    "\n",
    "collection = chroma_client.create_collection(name=\"testing_collection\")\n",
    "\n",
    "collection.add(\n",
    "    embeddings=vectors,\n",
    "    ids=vectors_ids\n",
    ")"
   ]
  },
  {
   "cell_type": "code",
   "execution_count": 29,
   "metadata": {},
   "outputs": [
    {
     "name": "stdout",
     "output_type": "stream",
     "text": [
      "Requirement already satisfied: sentence-transformers in /opt/homebrew/lib/python3.10/site-packages (2.2.2)\n",
      "Requirement already satisfied: huggingface-hub>=0.4.0 in /opt/homebrew/lib/python3.10/site-packages (from sentence-transformers) (0.12.0)\n",
      "Requirement already satisfied: scipy in /opt/homebrew/lib/python3.10/site-packages (from sentence-transformers) (1.10.0)\n",
      "Requirement already satisfied: transformers<5.0.0,>=4.6.0 in /opt/homebrew/lib/python3.10/site-packages (from sentence-transformers) (4.26.1)\n",
      "Requirement already satisfied: sentencepiece in /opt/homebrew/lib/python3.10/site-packages (from sentence-transformers) (0.1.97)\n",
      "Requirement already satisfied: numpy in /opt/homebrew/lib/python3.10/site-packages (from sentence-transformers) (1.21.6)\n",
      "Requirement already satisfied: torch>=1.6.0 in /opt/homebrew/lib/python3.10/site-packages (from sentence-transformers) (1.13.1)\n",
      "Requirement already satisfied: tqdm in /opt/homebrew/lib/python3.10/site-packages (from sentence-transformers) (4.64.1)\n",
      "Requirement already satisfied: torchvision in /opt/homebrew/lib/python3.10/site-packages (from sentence-transformers) (0.14.1)\n",
      "Requirement already satisfied: nltk in /opt/homebrew/lib/python3.10/site-packages (from sentence-transformers) (3.8.1)\n",
      "Requirement already satisfied: scikit-learn in /opt/homebrew/lib/python3.10/site-packages (from sentence-transformers) (1.2.1)\n",
      "Requirement already satisfied: requests in /opt/homebrew/lib/python3.10/site-packages (from huggingface-hub>=0.4.0->sentence-transformers) (2.28.2)\n",
      "Requirement already satisfied: typing-extensions>=3.7.4.3 in /opt/homebrew/lib/python3.10/site-packages (from huggingface-hub>=0.4.0->sentence-transformers) (4.5.0)\n",
      "Requirement already satisfied: filelock in /opt/homebrew/lib/python3.10/site-packages (from huggingface-hub>=0.4.0->sentence-transformers) (3.9.0)\n",
      "Requirement already satisfied: packaging>=20.9 in /opt/homebrew/lib/python3.10/site-packages (from huggingface-hub>=0.4.0->sentence-transformers) (20.9)\n",
      "Requirement already satisfied: pyyaml>=5.1 in /opt/homebrew/lib/python3.10/site-packages (from huggingface-hub>=0.4.0->sentence-transformers) (6.0)\n",
      "Requirement already satisfied: tokenizers!=0.11.3,<0.14,>=0.11.1 in /opt/homebrew/lib/python3.10/site-packages (from transformers<5.0.0,>=4.6.0->sentence-transformers) (0.13.2)\n",
      "Requirement already satisfied: regex!=2019.12.17 in /opt/homebrew/lib/python3.10/site-packages (from transformers<5.0.0,>=4.6.0->sentence-transformers) (2022.10.31)\n",
      "Requirement already satisfied: joblib in /opt/homebrew/lib/python3.10/site-packages (from nltk->sentence-transformers) (1.2.0)\n",
      "Requirement already satisfied: click in /opt/homebrew/lib/python3.10/site-packages (from nltk->sentence-transformers) (8.1.3)\n",
      "Requirement already satisfied: threadpoolctl>=2.0.0 in /opt/homebrew/lib/python3.10/site-packages (from scikit-learn->sentence-transformers) (3.1.0)\n",
      "Requirement already satisfied: pillow!=8.3.*,>=5.3.0 in /opt/homebrew/lib/python3.10/site-packages (from torchvision->sentence-transformers) (9.4.0)\n",
      "Requirement already satisfied: pyparsing>=2.0.2 in /opt/homebrew/lib/python3.10/site-packages (from packaging>=20.9->huggingface-hub>=0.4.0->sentence-transformers) (3.0.9)\n",
      "Requirement already satisfied: urllib3<1.27,>=1.21.1 in /opt/homebrew/lib/python3.10/site-packages (from requests->huggingface-hub>=0.4.0->sentence-transformers) (1.26.14)\n",
      "Requirement already satisfied: charset-normalizer<4,>=2 in /opt/homebrew/lib/python3.10/site-packages (from requests->huggingface-hub>=0.4.0->sentence-transformers) (3.0.1)\n",
      "Requirement already satisfied: certifi>=2017.4.17 in /opt/homebrew/lib/python3.10/site-packages (from requests->huggingface-hub>=0.4.0->sentence-transformers) (2022.12.7)\n",
      "Requirement already satisfied: idna<4,>=2.5 in /opt/homebrew/lib/python3.10/site-packages (from requests->huggingface-hub>=0.4.0->sentence-transformers) (3.4)\n",
      "\n",
      "\u001b[1m[\u001b[0m\u001b[34;49mnotice\u001b[0m\u001b[1;39;49m]\u001b[0m\u001b[39;49m A new release of pip is available: \u001b[0m\u001b[31;49m23.0\u001b[0m\u001b[39;49m -> \u001b[0m\u001b[32;49m23.0.1\u001b[0m\n",
      "\u001b[1m[\u001b[0m\u001b[34;49mnotice\u001b[0m\u001b[1;39;49m]\u001b[0m\u001b[39;49m To update, run: \u001b[0m\u001b[32;49mpython3.10 -m pip install --upgrade pip\u001b[0m\n",
      "Note: you may need to restart the kernel to use updated packages.\n"
     ]
    }
   ],
   "source": [
    "%pip install -U sentence-transformers\n"
   ]
  },
  {
   "cell_type": "code",
   "execution_count": 32,
   "metadata": {},
   "outputs": [
    {
     "ename": "IndexError",
     "evalue": "list index out of range",
     "output_type": "error",
     "traceback": [
      "\u001b[0;31m---------------------------------------------------------------------------\u001b[0m",
      "\u001b[0;31mIndexError\u001b[0m                                Traceback (most recent call last)",
      "Cell \u001b[0;32mIn[32], line 9\u001b[0m\n\u001b[1;32m      5\u001b[0m sentence \u001b[39m=\u001b[39m [\u001b[39m'\u001b[39m\u001b[39mThis framework generates embeddings for each input sentence\u001b[39m\u001b[39m'\u001b[39m]\n\u001b[1;32m      8\u001b[0m \u001b[39m#Sentences are encoded by calling model.encode()\u001b[39;00m\n\u001b[0;32m----> 9\u001b[0m embeddings \u001b[39m=\u001b[39m model\u001b[39m.\u001b[39;49mencode([sentence, sentence])\n",
      "File \u001b[0;32m/opt/homebrew/lib/python3.10/site-packages/sentence_transformers/SentenceTransformer.py:161\u001b[0m, in \u001b[0;36mSentenceTransformer.encode\u001b[0;34m(self, sentences, batch_size, show_progress_bar, output_value, convert_to_numpy, convert_to_tensor, device, normalize_embeddings)\u001b[0m\n\u001b[1;32m    159\u001b[0m \u001b[39mfor\u001b[39;00m start_index \u001b[39min\u001b[39;00m trange(\u001b[39m0\u001b[39m, \u001b[39mlen\u001b[39m(sentences), batch_size, desc\u001b[39m=\u001b[39m\u001b[39m\"\u001b[39m\u001b[39mBatches\u001b[39m\u001b[39m\"\u001b[39m, disable\u001b[39m=\u001b[39m\u001b[39mnot\u001b[39;00m show_progress_bar):\n\u001b[1;32m    160\u001b[0m     sentences_batch \u001b[39m=\u001b[39m sentences_sorted[start_index:start_index\u001b[39m+\u001b[39mbatch_size]\n\u001b[0;32m--> 161\u001b[0m     features \u001b[39m=\u001b[39m \u001b[39mself\u001b[39;49m\u001b[39m.\u001b[39;49mtokenize(sentences_batch)\n\u001b[1;32m    162\u001b[0m     features \u001b[39m=\u001b[39m batch_to_device(features, device)\n\u001b[1;32m    164\u001b[0m     \u001b[39mwith\u001b[39;00m torch\u001b[39m.\u001b[39mno_grad():\n",
      "File \u001b[0;32m/opt/homebrew/lib/python3.10/site-packages/sentence_transformers/SentenceTransformer.py:319\u001b[0m, in \u001b[0;36mSentenceTransformer.tokenize\u001b[0;34m(self, texts)\u001b[0m\n\u001b[1;32m    315\u001b[0m \u001b[39mdef\u001b[39;00m \u001b[39mtokenize\u001b[39m(\u001b[39mself\u001b[39m, texts: Union[List[\u001b[39mstr\u001b[39m], List[Dict], List[Tuple[\u001b[39mstr\u001b[39m, \u001b[39mstr\u001b[39m]]]):\n\u001b[1;32m    316\u001b[0m \u001b[39m    \u001b[39m\u001b[39m\"\"\"\u001b[39;00m\n\u001b[1;32m    317\u001b[0m \u001b[39m    Tokenizes the texts\u001b[39;00m\n\u001b[1;32m    318\u001b[0m \u001b[39m    \"\"\"\u001b[39;00m\n\u001b[0;32m--> 319\u001b[0m     \u001b[39mreturn\u001b[39;00m \u001b[39mself\u001b[39;49m\u001b[39m.\u001b[39;49m_first_module()\u001b[39m.\u001b[39;49mtokenize(texts)\n",
      "File \u001b[0;32m/opt/homebrew/lib/python3.10/site-packages/sentence_transformers/models/Transformer.py:103\u001b[0m, in \u001b[0;36mTransformer.tokenize\u001b[0;34m(self, texts)\u001b[0m\n\u001b[1;32m    101\u001b[0m     \u001b[39mfor\u001b[39;00m text_tuple \u001b[39min\u001b[39;00m texts:\n\u001b[1;32m    102\u001b[0m         batch1\u001b[39m.\u001b[39mappend(text_tuple[\u001b[39m0\u001b[39m])\n\u001b[0;32m--> 103\u001b[0m         batch2\u001b[39m.\u001b[39mappend(text_tuple[\u001b[39m1\u001b[39;49m])\n\u001b[1;32m    104\u001b[0m     to_tokenize \u001b[39m=\u001b[39m [batch1, batch2]\n\u001b[1;32m    106\u001b[0m \u001b[39m#strip\u001b[39;00m\n",
      "\u001b[0;31mIndexError\u001b[0m: list index out of range"
     ]
    }
   ],
   "source": [
    "from sentence_transformers import SentenceTransformer\n",
    "model = SentenceTransformer('paraphrase-MiniLM-L6-v2')\n",
    "\n",
    "#Sentences we want to encode. Example:\n",
    "sentence = ['This framework generates embeddings for each input sentence']\n",
    "\n",
    "\n",
    "#Sentences are encoded by calling model.encode()\n",
    "embeddings = model.encode(sentence)"
   ]
  },
  {
   "cell_type": "code",
   "execution_count": 34,
   "metadata": {},
   "outputs": [
    {
     "name": "stdout",
     "output_type": "stream",
     "text": [
      "[[-1.76214606e-01  1.20601386e-01 -2.93623507e-01 -2.29857996e-01\n",
      "  -8.22926089e-02  2.37709135e-01  3.39985043e-01 -7.80964434e-01\n",
      "   1.18127473e-01  1.63373724e-01 -1.37715369e-01  2.40282834e-01\n",
      "   4.25125867e-01  1.72417581e-01  1.05279520e-01  5.18164277e-01\n",
      "   6.22216091e-02  3.99286300e-01 -1.81652561e-01 -5.85578442e-01\n",
      "   4.49723750e-02 -1.72750652e-01 -2.68443674e-01 -1.47386163e-01\n",
      "  -1.89217508e-01  1.92150250e-01 -3.83842975e-01 -3.96006763e-01\n",
      "   4.30648744e-01 -3.15320075e-01  3.65949899e-01  6.05159067e-02\n",
      "   3.57325613e-01  1.59736484e-01 -3.00983757e-01  2.63250381e-01\n",
      "  -3.94310653e-01  1.84855431e-01 -3.99549127e-01 -2.67889589e-01\n",
      "  -5.45117438e-01 -3.13404277e-02 -4.30644095e-01  1.33277997e-01\n",
      "  -1.74793556e-01 -4.35465306e-01 -4.77378666e-01  7.12552369e-02\n",
      "  -7.37001821e-02  5.69137216e-01 -2.82579482e-01  5.24976924e-02\n",
      "  -8.20007861e-01  1.98296711e-01  1.69512287e-01  2.71780044e-01\n",
      "   2.64610708e-01 -2.55746040e-02 -1.74096376e-01  1.63314238e-01\n",
      "  -3.95260453e-01 -3.17560174e-02 -2.62556255e-01  3.52754235e-01\n",
      "   3.01434666e-01 -1.47197232e-01  2.10075855e-01 -1.84010282e-01\n",
      "  -4.12896425e-01  4.14775878e-01 -1.89769402e-01 -1.35481894e-01\n",
      "  -3.79272670e-01 -4.68026586e-02 -3.33602428e-02  9.00395215e-02\n",
      "  -3.30133229e-01 -3.87315378e-02  3.75082225e-01 -1.46996632e-01\n",
      "   4.34959859e-01  5.38325667e-01 -2.65445530e-01  1.64446279e-01\n",
      "   4.17077869e-01 -4.72510271e-02 -7.48732835e-02 -4.26261127e-01\n",
      "  -1.96994379e-01  6.10317402e-02 -4.74263221e-01 -6.48334861e-01\n",
      "   3.71462226e-01  2.50956714e-01  1.22529760e-01  8.88765231e-02\n",
      "  -1.06724232e-01  5.33984266e-02  9.74508598e-02 -3.46656740e-02\n",
      "  -1.02882862e-01  2.32289076e-01 -2.53739804e-01 -5.13112009e-01\n",
      "   1.85216814e-01 -3.04358006e-01 -3.55211422e-02 -1.26974910e-01\n",
      "  -7.71628544e-02 -5.15329540e-01 -2.28071749e-01  2.03342550e-02\n",
      "   7.38175511e-02 -1.52557984e-01 -4.00837868e-01 -2.47748673e-01\n",
      "   3.97470593e-01 -2.60260731e-01  2.50905991e-01  1.68229014e-01\n",
      "   1.33900657e-01 -2.10833848e-02 -4.70035285e-01  4.78849858e-01\n",
      "   2.80345619e-01 -4.64547217e-01  3.21746647e-01  2.34207422e-01\n",
      "   2.45772287e-01 -4.71482247e-01  5.00401616e-01  4.10189748e-01\n",
      "   5.15217066e-01  2.62549222e-01  2.11586636e-02 -3.89687687e-01\n",
      "  -2.41742983e-01 -2.14834303e-01 -8.62657726e-02 -1.65323704e-01\n",
      "  -5.21897003e-02  3.41875374e-01  4.50314552e-01 -3.06973457e-01\n",
      "  -2.02294409e-01  6.85521543e-01 -5.33892453e-01  3.58471036e-01\n",
      "   1.45286828e-01 -7.07057640e-02 -1.50529668e-01 -8.56283084e-02\n",
      "  -7.67851993e-02  1.89544454e-01 -1.04067251e-01  5.33543706e-01\n",
      "  -5.27886987e-01  2.42333598e-02 -2.64347672e-01 -2.23186478e-01\n",
      "  -3.81208211e-01  7.59913698e-02 -4.64484841e-01 -3.36548805e-01\n",
      "   4.21229213e-01  1.07479230e-01  1.90457597e-01  2.89489934e-03\n",
      "  -1.08513564e-01  1.53545529e-01  3.16023052e-01 -2.70838477e-02\n",
      "  -5.40594518e-01  8.97286981e-02 -1.15549378e-01  3.97803962e-01\n",
      "  -4.97683674e-01 -2.84893543e-01  4.99865562e-02  3.61279547e-01\n",
      "   6.90535545e-01  1.46821544e-01  1.73396498e-01 -1.74582630e-01\n",
      "  -3.15702945e-01  6.72998279e-02  2.17250198e-01  9.78541076e-02\n",
      "  -1.29472703e-01 -1.86929941e-01  1.34878457e-01 -1.53885528e-01\n",
      "   7.44717121e-02 -1.85536087e-01 -2.80627847e-01 -1.14144221e-01\n",
      "   4.12249207e-01  6.39496297e-02 -1.45715490e-01 -9.82061550e-02\n",
      "  -1.33082166e-01 -1.88410863e-01 -2.84842663e-02 -3.49507071e-02\n",
      "   3.34264711e-02  6.98897243e-02  1.90354481e-01 -2.96723902e-01\n",
      "   2.64680153e-03  1.09140582e-01  1.70891397e-02  2.60589063e-01\n",
      "   3.29037994e-01 -6.61556274e-02  2.39665300e-01 -2.26195261e-01\n",
      "  -3.36874127e-02  1.49400413e-01 -3.21265161e-01 -2.68577993e-01\n",
      "   5.72631240e-01 -4.92308497e-01  2.00666219e-01 -3.49261761e-01\n",
      "  -2.89884340e-02  6.09010577e-01 -5.72333217e-01  2.35000357e-01\n",
      "   6.47204556e-03 -3.14946808e-02  2.78109889e-02 -3.90340358e-01\n",
      "  -2.08949983e-01 -3.04452598e-01 -7.20199794e-02 -8.29838961e-02\n",
      "   3.73793006e-01  7.38936737e-02 -2.21071206e-02  9.88137797e-02\n",
      "  -1.51426718e-01 -1.40430585e-01  2.26017937e-01  2.76089996e-01\n",
      "  -8.87746960e-02 -1.12816341e-01 -2.66285568e-01  2.77834713e-01\n",
      "  -4.75605391e-02  6.71010390e-02 -2.78587155e-02 -2.39992253e-02\n",
      "   2.51709044e-01  4.68793541e-01 -5.39325118e-01  1.10598527e-01\n",
      "  -3.44947040e-01  4.15989876e-01  7.28483275e-02 -3.19647491e-01\n",
      "   4.90374088e-01 -7.30310706e-03 -2.64212745e-03  9.63711143e-01\n",
      "   3.23884934e-01 -7.79618546e-02 -2.37589300e-01  2.34038576e-01\n",
      "  -3.16053540e-01 -1.65645208e-03 -1.09070659e+00  3.38409245e-01\n",
      "   4.70604971e-02  1.07435293e-01 -2.06672221e-01  4.26432304e-03\n",
      "  -1.38479471e-03 -5.31455457e-01 -2.75647938e-01 -1.64648324e-01\n",
      "  -3.42916846e-01 -4.26118314e-01  6.01812005e-01  4.55971926e-01\n",
      "  -2.72702366e-01 -3.45809907e-02  2.62752771e-01 -6.34175772e-03\n",
      "   2.79631257e-01 -2.53558815e-01 -1.68626368e-01  3.82936075e-02\n",
      "   2.07762942e-01 -4.31525826e-01 -7.23997056e-02 -1.26854360e-01\n",
      "   2.07030550e-02  5.74441016e-01  3.54672790e-01  9.28300098e-02\n",
      "   6.70505986e-02  1.11520737e-01 -1.86517704e-02  4.62351769e-01\n",
      "   2.72504359e-01 -3.60473841e-01  5.29415488e-01 -1.00294431e-03\n",
      "  -8.81362706e-02  1.49975479e-01  5.25861569e-02  4.63517487e-01\n",
      "  -3.96831334e-01  2.42640510e-01 -2.08912447e-01  3.65671903e-01\n",
      "  -4.73095250e-04  5.33963323e-01 -1.97879702e-01  3.11582834e-01\n",
      "  -6.96714997e-01 -4.29500580e-01 -4.49359208e-01 -2.71370523e-02\n",
      "  -6.98710755e-02  2.06174880e-01 -1.57107130e-01  4.43521291e-01\n",
      "  -6.74266517e-02 -3.00924093e-01  5.14859438e-01  3.36029083e-01\n",
      "   6.63373992e-02 -1.15235366e-01 -2.95977667e-02  2.79471934e-01\n",
      "  -3.48199941e-02 -7.29327500e-02 -4.58473340e-02  1.54262245e-01\n",
      "   8.09355795e-01  5.20328403e-01 -4.02114689e-01 -3.23145278e-02\n",
      "  -1.10364132e-01  7.50501603e-02 -1.51098564e-01  8.45740020e-01\n",
      "  -1.80843890e-01  3.22573513e-01  1.04708597e-01  3.19663644e-01\n",
      "  -1.55085534e-01  1.69236630e-01 -2.56997049e-01  2.01208919e-01\n",
      "   1.77393228e-01 -2.74333566e-01 -3.36944640e-01  5.02357185e-01\n",
      "  -1.18357219e-01 -2.01167122e-01 -5.36485732e-01 -7.69808367e-02\n",
      "   1.15382541e-02 -2.36464649e-01 -2.98768096e-02  1.31366462e-01\n",
      "   2.94184327e-01  9.90919173e-02 -5.43897331e-01  1.40812859e-01\n",
      "   3.66998643e-01  5.04865311e-02  1.99122056e-01 -2.80674666e-01\n",
      "   4.34192240e-01 -1.40275091e-01  5.78048885e-01  1.77715629e-01\n",
      "   8.98362473e-02  3.29651237e-01  6.13006540e-02 -3.24933112e-01]]\n"
     ]
    }
   ],
   "source": [
    "print(embedding.tolist())"
   ]
  }
 ],
 "metadata": {
  "kernelspec": {
   "display_name": "Python 3",
   "language": "python",
   "name": "python3"
  },
  "language_info": {
   "codemirror_mode": {
    "name": "ipython",
    "version": 3
   },
   "file_extension": ".py",
   "mimetype": "text/x-python",
   "name": "python",
   "nbconvert_exporter": "python",
   "pygments_lexer": "ipython3",
   "version": "3.10.9"
  },
  "orig_nbformat": 4,
  "vscode": {
   "interpreter": {
    "hash": "b0fa6594d8f4cbf19f97940f81e996739fb7646882a419484c72d19e05852a7e"
   }
  }
 },
 "nbformat": 4,
 "nbformat_minor": 2
}
